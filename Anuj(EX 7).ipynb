{
  "nbformat": 4,
  "nbformat_minor": 0,
  "metadata": {
    "colab": {
      "provenance": []
    },
    "kernelspec": {
      "name": "python3",
      "display_name": "Python 3"
    },
    "language_info": {
      "name": "python"
    }
  },
  "cells": [
    {
      "cell_type": "code",
      "execution_count": null,
      "metadata": {
        "id": "Bnfj8w2t_Zn6"
      },
      "outputs": [],
      "source": [
        "#_____________Exercise 07_____________"
      ]
    },
    {
      "cell_type": "code",
      "source": [
        "import array\n",
        "arr = array.array(\"l\",[2,4,6,8,10,12])\n",
        "print(\"New created array: \", end=\"\")\n",
        "for l in range (0,5) :\n",
        "  print(arr[l], end=\" \")\n",
        "  print(\"\\r\")"
      ],
      "metadata": {
        "colab": {
          "base_uri": "https://localhost:8080/"
        },
        "id": "sFD81bd7_gO8",
        "outputId": "517da155-b938-480d-b042-1af4825c9a23"
      },
      "execution_count": 1,
      "outputs": [
        {
          "output_type": "stream",
          "name": "stdout",
          "text": [
            "New created array: 2 \r\n",
            "4 \r\n",
            "6 \r\n",
            "8 \r\n",
            "10 \r\n"
          ]
        }
      ]
    },
    {
      "cell_type": "code",
      "source": [
        "# example 1"
      ],
      "metadata": {
        "id": "NzJmWGKR_j_K"
      },
      "execution_count": null,
      "outputs": []
    },
    {
      "cell_type": "code",
      "source": [
        "import pandas as pd\n",
        "dict = {'name':[\"Smith\",\"Karan\",\"Abhaydeep\",\"Copyright\"],'age':[\"12\",\"22\",\"21\",\"92\"]}\n",
        "info = pd.DataFrame(dict, index = [ True, True, False , True])\n",
        "print(info)"
      ],
      "metadata": {
        "colab": {
          "base_uri": "https://localhost:8080/"
        },
        "id": "JNypotfQ_m05",
        "outputId": "04a05c70-fd4a-4c5b-f2c9-bc2889721aac"
      },
      "execution_count": 2,
      "outputs": [
        {
          "output_type": "stream",
          "name": "stdout",
          "text": [
            "            name age\n",
            "True       Smith  12\n",
            "True       Karan  22\n",
            "False  Abhaydeep  21\n",
            "True   Copyright  92\n"
          ]
        }
      ]
    },
    {
      "cell_type": "code",
      "source": [
        "import numpy as np\n",
        "arr = np.array(16)\n",
        "print(\"The Original array is:\\n\",arr)\n",
        "#shape array with 2 rows and 8 columns\n",
        "arr = np.arange(16).reshape(2,8)\n",
        "print(\"\\nreshapedarray:\\n\",arr)\n",
        "#shape array with 2 rows and 8 columns\n",
        "arr = np.arange(16).reshape(8,2)\n",
        "print(\"\\nreshaped array:\\n\",arr)"
      ],
      "metadata": {
        "id": "vo_IGIkL_ym5",
        "outputId": "528ebe31-9a5f-48ab-f4bc-d65832476ea2",
        "colab": {
          "base_uri": "https://localhost:8080/"
        }
      },
      "execution_count": 3,
      "outputs": [
        {
          "output_type": "stream",
          "name": "stdout",
          "text": [
            "The Original array is:\n",
            " 16\n",
            "\n",
            "reshapedarray:\n",
            " [[ 0  1  2  3  4  5  6  7]\n",
            " [ 8  9 10 11 12 13 14 15]]\n",
            "\n",
            "reshaped array:\n",
            " [[ 0  1]\n",
            " [ 2  3]\n",
            " [ 4  5]\n",
            " [ 6  7]\n",
            " [ 8  9]\n",
            " [10 11]\n",
            " [12 13]\n",
            " [14 15]]\n"
          ]
        }
      ]
    }
  ]
}