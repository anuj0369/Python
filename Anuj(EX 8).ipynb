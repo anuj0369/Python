{
  "nbformat": 4,
  "nbformat_minor": 0,
  "metadata": {
    "colab": {
      "provenance": []
    },
    "kernelspec": {
      "name": "python3",
      "display_name": "Python 3"
    },
    "language_info": {
      "name": "python"
    }
  },
  "cells": [
    {
      "cell_type": "code",
      "execution_count": null,
      "metadata": {
        "id": "eRcL8IG3A8lD"
      },
      "outputs": [],
      "source": [
        "#___________________EXERCISE 08_____________________"
      ]
    },
    {
      "cell_type": "code",
      "source": [
        "import numpy as np\n",
        "a=np.array([1,2,3])\n",
        "print(type(a))"
      ],
      "metadata": {
        "id": "9tx_kQNGBGH3"
      },
      "execution_count": null,
      "outputs": []
    },
    {
      "cell_type": "code",
      "source": [
        "print(a.shape)\n",
        "print(a[0], a[1], a[2])\n"
      ],
      "metadata": {
        "id": "0c89MwCsDgPy"
      },
      "execution_count": null,
      "outputs": []
    },
    {
      "cell_type": "code",
      "source": [
        "a[0] = 5\n",
        "print(a)\n",
        "b=np.array([[1,2,3,],[4,5,6]])\n",
        "print(b.shape)\n",
        "print(b[0,0],b[0,1],b[1,0])"
      ],
      "metadata": {
        "colab": {
          "base_uri": "https://localhost:8080/"
        },
        "id": "T4STD0IuBJ2d",
        "outputId": "76db6788-e5d5-4b21-c909-d1e7ef54b727"
      },
      "execution_count": 6,
      "outputs": [
        {
          "output_type": "stream",
          "name": "stdout",
          "text": [
            "[[5. 5.]\n",
            " [0. 0.]]\n",
            "(2, 3)\n",
            "1 2 4\n"
          ]
        }
      ]
    },
    {
      "cell_type": "code",
      "source": [
        "import numpy as np\n",
        "a = np.zeros((2,2))\n",
        "print (a)\n",
        "b = np.ones((1,2))\n",
        "print (b)\n",
        "c = np.full((2,2),7)\n",
        "print (c)\n",
        "d = np.eye(2)\n",
        "print (d)\n",
        "e = np.random.random((2,2))\n",
        "print (e)\n"
      ],
      "metadata": {
        "colab": {
          "base_uri": "https://localhost:8080/"
        },
        "id": "-N27XWYBBPfU",
        "outputId": "bcfaa04d-ab78-4392-e6bd-34a2d274cc02"
      },
      "execution_count": 2,
      "outputs": [
        {
          "output_type": "stream",
          "name": "stdout",
          "text": [
            "[[0. 0.]\n",
            " [0. 0.]]\n",
            "[[1. 1.]]\n",
            "[[7 7]\n",
            " [7 7]]\n",
            "[[1. 0.]\n",
            " [0. 1.]]\n",
            "[[0.16432965 0.80648615]\n",
            " [0.23738903 0.33110956]]\n"
          ]
        }
      ]
    }
  ]
}